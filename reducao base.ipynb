{
 "cells": [
  {
   "cell_type": "code",
   "execution_count": 1,
   "metadata": {},
   "outputs": [],
   "source": [
    "import pandas as pd\n",
    "import glob\n",
    "import os"
   ]
  },
  {
   "cell_type": "code",
   "execution_count": 2,
   "metadata": {},
   "outputs": [],
   "source": [
    "\n",
    "# Lista todos os arquivos parquet na pasta estabelecimentos\n",
    "path = 'estabelecimentos/*.parquet'\n",
    "parquet_estabelecimentos_files = glob.glob(path)\n",
    "\n",
    "# Lê e concatena todos os arquivos parquet em um único DataFrame\n",
    "df_estabelecimentos = pd.concat([pd.read_parquet(f) for f in parquet_estabelecimentos_files], ignore_index=True)\n"
   ]
  },
  {
   "cell_type": "code",
   "execution_count": 3,
   "metadata": {},
   "outputs": [
    {
     "data": {
      "text/html": [
       "<div>\n",
       "<style scoped>\n",
       "    .dataframe tbody tr th:only-of-type {\n",
       "        vertical-align: middle;\n",
       "    }\n",
       "\n",
       "    .dataframe tbody tr th {\n",
       "        vertical-align: top;\n",
       "    }\n",
       "\n",
       "    .dataframe thead th {\n",
       "        text-align: right;\n",
       "    }\n",
       "</style>\n",
       "<table border=\"1\" class=\"dataframe\">\n",
       "  <thead>\n",
       "    <tr style=\"text-align: right;\">\n",
       "      <th></th>\n",
       "      <th>CNPJ Base</th>\n",
       "      <th>Filial</th>\n",
       "      <th>DV</th>\n",
       "      <th>Nome Fantasia</th>\n",
       "      <th>Situacao</th>\n",
       "      <th>CNAE</th>\n",
       "      <th>CNAE2</th>\n",
       "      <th>UF</th>\n",
       "      <th>Municipio</th>\n",
       "      <th>ddd1</th>\n",
       "      <th>fone1</th>\n",
       "      <th>ddd2</th>\n",
       "      <th>fone2</th>\n",
       "      <th>ddd fax</th>\n",
       "      <th>Fax</th>\n",
       "      <th>Email</th>\n",
       "    </tr>\n",
       "  </thead>\n",
       "  <tbody>\n",
       "    <tr>\n",
       "      <th>0</th>\n",
       "      <td>26627488</td>\n",
       "      <td>1</td>\n",
       "      <td>75</td>\n",
       "      <td>None</td>\n",
       "      <td>2</td>\n",
       "      <td>9511800</td>\n",
       "      <td>4751201,4752100,6190699,8599603,9512600</td>\n",
       "      <td>RS</td>\n",
       "      <td>8537</td>\n",
       "      <td>51</td>\n",
       "      <td>80171280</td>\n",
       "      <td>NaN</td>\n",
       "      <td>None</td>\n",
       "      <td>None</td>\n",
       "      <td>None</td>\n",
       "      <td>DAVIDFALEIRO2018@GMAIL.COM</td>\n",
       "    </tr>\n",
       "    <tr>\n",
       "      <th>1</th>\n",
       "      <td>28292397</td>\n",
       "      <td>1</td>\n",
       "      <td>51</td>\n",
       "      <td>None</td>\n",
       "      <td>2</td>\n",
       "      <td>9602501</td>\n",
       "      <td>9602502</td>\n",
       "      <td>RS</td>\n",
       "      <td>8685</td>\n",
       "      <td>51</td>\n",
       "      <td>98223222</td>\n",
       "      <td>NaN</td>\n",
       "      <td>None</td>\n",
       "      <td>None</td>\n",
       "      <td>None</td>\n",
       "      <td>mariliamendes1811@hotmail.com</td>\n",
       "    </tr>\n",
       "    <tr>\n",
       "      <th>2</th>\n",
       "      <td>28706666</td>\n",
       "      <td>1</td>\n",
       "      <td>89</td>\n",
       "      <td>KONDA ALIMENTOS CONGELADOS</td>\n",
       "      <td>2</td>\n",
       "      <td>5620101</td>\n",
       "      <td>1099699,4637199,4723700,5612100</td>\n",
       "      <td>RS</td>\n",
       "      <td>8423</td>\n",
       "      <td>51</td>\n",
       "      <td>96765754</td>\n",
       "      <td>NaN</td>\n",
       "      <td>None</td>\n",
       "      <td>None</td>\n",
       "      <td>None</td>\n",
       "      <td>JEANSANGUINE@YAHOO.COM.BR</td>\n",
       "    </tr>\n",
       "    <tr>\n",
       "      <th>3</th>\n",
       "      <td>32613205</td>\n",
       "      <td>1</td>\n",
       "      <td>39</td>\n",
       "      <td>J G TRANSPORTES</td>\n",
       "      <td>2</td>\n",
       "      <td>4929902</td>\n",
       "      <td>4781400,4923002,4929904</td>\n",
       "      <td>RS</td>\n",
       "      <td>8423</td>\n",
       "      <td>51</td>\n",
       "      <td>92392218</td>\n",
       "      <td>NaN</td>\n",
       "      <td>None</td>\n",
       "      <td>None</td>\n",
       "      <td>None</td>\n",
       "      <td>JESSICA.GONCALVES90@GMAIL.COM</td>\n",
       "    </tr>\n",
       "    <tr>\n",
       "      <th>4</th>\n",
       "      <td>33590115</td>\n",
       "      <td>1</td>\n",
       "      <td>32</td>\n",
       "      <td>None</td>\n",
       "      <td>2</td>\n",
       "      <td>4742300</td>\n",
       "      <td>None</td>\n",
       "      <td>RS</td>\n",
       "      <td>5771</td>\n",
       "      <td>51</td>\n",
       "      <td>95590413</td>\n",
       "      <td>NaN</td>\n",
       "      <td>None</td>\n",
       "      <td>None</td>\n",
       "      <td>None</td>\n",
       "      <td>R.ASISTEMAS2019@GMAIL.COM</td>\n",
       "    </tr>\n",
       "  </tbody>\n",
       "</table>\n",
       "</div>"
      ],
      "text/plain": [
       "   CNPJ Base  Filial  DV               Nome Fantasia  Situacao     CNAE  \\\n",
       "0   26627488       1  75                        None         2  9511800   \n",
       "1   28292397       1  51                        None         2  9602501   \n",
       "2   28706666       1  89  KONDA ALIMENTOS CONGELADOS         2  5620101   \n",
       "3   32613205       1  39             J G TRANSPORTES         2  4929902   \n",
       "4   33590115       1  32                        None         2  4742300   \n",
       "\n",
       "                                     CNAE2  UF  Municipio ddd1     fone1 ddd2  \\\n",
       "0  4751201,4752100,6190699,8599603,9512600  RS       8537   51  80171280  NaN   \n",
       "1                                  9602502  RS       8685   51  98223222  NaN   \n",
       "2          1099699,4637199,4723700,5612100  RS       8423   51  96765754  NaN   \n",
       "3                  4781400,4923002,4929904  RS       8423   51  92392218  NaN   \n",
       "4                                     None  RS       5771   51  95590413  NaN   \n",
       "\n",
       "  fone2 ddd fax   Fax                          Email  \n",
       "0  None    None  None     DAVIDFALEIRO2018@GMAIL.COM  \n",
       "1  None    None  None  mariliamendes1811@hotmail.com  \n",
       "2  None    None  None      JEANSANGUINE@YAHOO.COM.BR  \n",
       "3  None    None  None  JESSICA.GONCALVES90@GMAIL.COM  \n",
       "4  None    None  None      R.ASISTEMAS2019@GMAIL.COM  "
      ]
     },
     "execution_count": 3,
     "metadata": {},
     "output_type": "execute_result"
    }
   ],
   "source": [
    "df_estabelecimentos.head()"
   ]
  },
  {
   "cell_type": "code",
   "execution_count": 4,
   "metadata": {},
   "outputs": [],
   "source": [
    "# Lista todos os arquivos parquet na pasta empresas\n",
    "path = 'empresas/*.parquet'\n",
    "parquet_empresa_files = glob.glob(path)\n",
    "\n",
    "# Lê e concatena todos os arquivos parquet em um único DataFrame\n",
    "df_empresas = pd.concat([pd.read_parquet(f) for f in parquet_empresa_files], ignore_index=True)"
   ]
  },
  {
   "cell_type": "code",
   "execution_count": null,
   "metadata": {},
   "outputs": [],
   "source": [
    "df_empresas.head()"
   ]
  },
  {
   "cell_type": "code",
   "execution_count": 6,
   "metadata": {},
   "outputs": [],
   "source": [
    "path = 'municipios/*CSV'\n",
    "parquet_municipios_files = glob.glob(path)\n",
    "\n",
    "# Lê e concatena\n",
    "df_municipios = pd.concat([pd.read_csv(f,encoding=\"latin-1\",sep=\";\",names=[\"Municipio\",\"Nome Municipio\"]) for f in parquet_municipios_files], ignore_index=True)"
   ]
  },
  {
   "cell_type": "code",
   "execution_count": 6,
   "metadata": {},
   "outputs": [],
   "source": [
    "path = 'cnae/*CSV'\n",
    "parquet_cnae_files = glob.glob(path)\n",
    "\n",
    "# Lê e concatena\n",
    "df_cnae= pd.concat([pd.read_csv(f,encoding=\"latin-1\",sep=\";\",names=[\"CNAE\",\"Nome CNAE\"]) for f in parquet_cnae_files], ignore_index=True)"
   ]
  },
  {
   "cell_type": "code",
   "execution_count": null,
   "metadata": {},
   "outputs": [],
   "source": [
    "df_cnae.head()"
   ]
  },
  {
   "cell_type": "code",
   "execution_count": 17,
   "metadata": {},
   "outputs": [],
   "source": [
    "# Lista todos os arquivos parquet na pasta empresas\n",
    "path = 'simples/*.parquet'\n",
    "parquet_simples_files = glob.glob(path)\n",
    "\n",
    "# Lê e concatena todos os arquivos parquet em um único DataFrame\n",
    "df_simples = pd.concat([pd.read_parquet(f) for f in parquet_simples_files], ignore_index=True)"
   ]
  },
  {
   "cell_type": "code",
   "execution_count": null,
   "metadata": {},
   "outputs": [],
   "source": [
    "df_simples.head()"
   ]
  },
  {
   "cell_type": "code",
   "execution_count": 20,
   "metadata": {},
   "outputs": [],
   "source": [
    "df_empresas[\"CNPJ Base\"] = df_empresas[\"CNPJ Base\"].astype(str)\n",
    "df_estabelecimentos[\"CNPJ Base\"] = df_estabelecimentos[\"CNPJ Base\"].astype(str)\n",
    "df_simples[\"CNPJ Base\"] = df_simples[\"CNPJ Base\"].astype(str)\n"
   ]
  },
  {
   "cell_type": "code",
   "execution_count": 15,
   "metadata": {},
   "outputs": [],
   "source": [
    "\n",
    "df_estabelecimentos = pd.merge(df_estabelecimentos, df_empresas, on='CNPJ Base', how='left')"
   ]
  },
  {
   "cell_type": "code",
   "execution_count": 21,
   "metadata": {},
   "outputs": [],
   "source": [
    "df_estabelecimentos = pd.merge(df_estabelecimentos, df_simples, on='CNPJ Base', how='left')"
   ]
  },
  {
   "cell_type": "code",
   "execution_count": 23,
   "metadata": {},
   "outputs": [],
   "source": [
    "df_estabelecimentos = pd.merge(df_estabelecimentos, df_municipios, on='Municipio', how='left')"
   ]
  },
  {
   "cell_type": "code",
   "execution_count": null,
   "metadata": {},
   "outputs": [],
   "source": [
    "df_estabelecimentos = pd.merge(df_estabelecimentos, df_cnae, on='CNAE', how='left')"
   ]
  },
  {
   "cell_type": "code",
   "execution_count": null,
   "metadata": {},
   "outputs": [],
   "source": [
    "df_estabelecimentos.head()"
   ]
  },
  {
   "cell_type": "code",
   "execution_count": null,
   "metadata": {},
   "outputs": [],
   "source": [
    "df_estabelecimentos[\"ddd1\"] = df_estabelecimentos[\"ddd1\"].astype(str)\n",
    "df_estabelecimentos[\"ddd2\"] = df_estabelecimentos[\"ddd2\"].astype(str)\n",
    "df_estabelecimentos[\"ddd fax\"] = df_estabelecimentos[\"ddd fax\"].astype(str)\n",
    "\n",
    "df_estabelecimentos.to_parquet('df_estabelecimento.parquet')\n",
    "\n"
   ]
  }
 ],
 "metadata": {
  "kernelspec": {
   "display_name": "Python 3",
   "language": "python",
   "name": "python3"
  },
  "language_info": {
   "codemirror_mode": {
    "name": "ipython",
    "version": 3
   },
   "file_extension": ".py",
   "mimetype": "text/x-python",
   "name": "python",
   "nbconvert_exporter": "python",
   "pygments_lexer": "ipython3",
   "version": "3.13.1"
  }
 },
 "nbformat": 4,
 "nbformat_minor": 2
}
